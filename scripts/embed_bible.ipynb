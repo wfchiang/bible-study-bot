{
 "cells": [
  {
   "cell_type": "markdown",
   "metadata": {},
   "source": [
    "## Setup environment and check parameters"
   ]
  },
  {
   "cell_type": "code",
   "execution_count": 1,
   "metadata": {},
   "outputs": [
    {
     "name": "stdout",
     "output_type": "stream",
     "text": [
      "Loading Huggingface embedding model: sentence-transformers/all-mpnet-base-v2\n"
     ]
    },
    {
     "name": "stderr",
     "output_type": "stream",
     "text": [
      "c:\\Users\\Lchai\\AppData\\Local\\Programs\\Python\\Python310\\lib\\site-packages\\sentence_transformers\\cross_encoder\\CrossEncoder.py:13: TqdmWarning: IProgress not found. Please update jupyter and ipywidgets. See https://ipywidgets.readthedocs.io/en/stable/user_install.html\n",
      "  from tqdm.autonotebook import tqdm, trange\n",
      "c:\\Users\\Lchai\\AppData\\Local\\Programs\\Python\\Python310\\lib\\site-packages\\huggingface_hub\\file_download.py:147: UserWarning: `huggingface_hub` cache-system uses symlinks by default to efficiently store duplicated files but your machine does not support them in C:\\Users\\Lchai\\.cache\\huggingface\\hub\\models--sentence-transformers--all-mpnet-base-v2. Caching files will still work but in a degraded version that might require more space on your disk. This warning can be disabled by setting the `HF_HUB_DISABLE_SYMLINKS_WARNING` environment variable. For more details, see https://huggingface.co/docs/huggingface_hub/how-to-cache#limitations.\n",
      "To support symlinks on Windows, you either need to activate Developer Mode or to run Python as an administrator. In order to activate developer mode, see this article: https://docs.microsoft.com/en-us/windows/apps/get-started/enable-your-device-for-development\n",
      "  warnings.warn(message)\n",
      "c:\\Users\\Lchai\\AppData\\Local\\Programs\\Python\\Python310\\lib\\site-packages\\transformers\\tokenization_utils_base.py:1601: FutureWarning: `clean_up_tokenization_spaces` was not set. It will be set to `True` by default. This behavior will be depracted in transformers v4.45, and will be then set to `False` by default. For more details check this issue: https://github.com/huggingface/transformers/issues/31884\n",
      "  warnings.warn(\n"
     ]
    }
   ],
   "source": [
    "import os\n",
    "import yaml \n",
    "import torch \n",
    "\n",
    "# Bible data directory \n",
    "data_directory = \"../data/bible_versions/cuvs\"\n",
    "assert(os.path.isdir(data_directory)), f\"Data directory does not exist...\"\n",
    "\n",
    "# Load the embedding config file \n",
    "config_file = \"./bible_embedding_config.yaml\"\n",
    "assert(os.path.isfile(config_file)), \"Embedding config file does not exist...\"\n",
    "\n",
    "with open(config_file, \"r\") as f: \n",
    "    config = yaml.safe_load(f) \n",
    "\n",
    "# Load embedding model \n",
    "assert(\"model\" in config), f\"'model' configuration missed...\"\n",
    "\n",
    "if (config[\"model\"][\"framework\"] == \"huggingface\"): \n",
    "    model_name = config[\"model\"][\"name\"] \n",
    "    print(f\"Loading Huggingface embedding model: {model_name}\")\n",
    "\n",
    "    from langchain_huggingface import HuggingFaceEmbeddings \n",
    "    os.environ[\"PROTOCOL_BUFFERS_PYTHON_IMPLEMENTATION\"] = \"python\"\n",
    "\n",
    "    embedder = HuggingFaceEmbeddings(\n",
    "        model_name=model_name,\n",
    "        model_kwargs={\n",
    "            \"device\": (\n",
    "                \"cuda\" \n",
    "                if (torch.cuda.is_available()) \n",
    "                else \"cpu\"\n",
    "            )\n",
    "        },\n",
    "        encode_kwargs={\n",
    "            \"normalize_embeddings\": False\n",
    "        }\n",
    "    )\n",
    "else: \n",
    "    assert(False), f\"Unknown embedding framework: {config['model']['framework']}\""
   ]
  },
  {
   "cell_type": "code",
   "execution_count": 15,
   "metadata": {},
   "outputs": [
    {
     "name": "stdout",
     "output_type": "stream",
     "text": [
      "Embedding book: genesis\n"
     ]
    },
    {
     "name": "stderr",
     "output_type": "stream",
     "text": [
      "Processing book genesis...: 100%|██████████| 1533/1533 [00:00<00:00, 381843.82it/s]\n"
     ]
    }
   ],
   "source": [
    "from tqdm import tqdm \n",
    "from pathlib import Path \n",
    "from bible_study_bot.data.definitions import BibleBook\n",
    "\n",
    "for book_name, book_params in config[\"books\"].items():\n",
    "    # Check if the book file exist\n",
    "    book_file = Path(data_directory, book_params[\"file\"])\n",
    "    assert(book_file.exists()), f\"Book file does not exist: {book_file}\"\n",
    "    assert(book_file.suffix in [\".yaml\", \".yml\"]), f\"Unsupported book file format: {book_file.suffix}\"\n",
    "\n",
    "    # Load embedding parameters \n",
    "    embedding_context_scope = book_params[\"context_scope\"] \n",
    "    n_prev_context_verses = (\n",
    "        config[\"defaults\"][\"n_prev_context_verses\"]\n",
    "        if (\"n_prev_context_verses\" not in book_params)\n",
    "        else book_params[\"n_prev_context_verses\"]\n",
    "    )\n",
    "    n_next_context_verses = (\n",
    "        config[\"defaults\"][\"n_next_context_verses\"]\n",
    "        if (\"n_next_context_verses\" not in book_params)\n",
    "        else book_params[\"n_next_context_verses\"]\n",
    "    )\n",
    "\n",
    "    # Load the book file \n",
    "    with open(book_file, \"r\", encoding=\"utf-8\") as f: \n",
    "        bible_book_dict = yaml.safe_load(f) \n",
    "        bible_book = BibleBook(**bible_book_dict)\n",
    "\n",
    "        # Iterate through the verses \n",
    "        for i_bible_verse, bible_verse in tqdm(enumerate(bible_book.verses), desc=f\"Processing book {book_name}...\", total=len(bible_book.verses)): \n",
    "            verse_context = bible_book.verses[\n",
    "                max(0, i_bible_verse - n_prev_context_verses)\n",
    "                : min(len(bible_book.verses)-1, i_bible_verse + n_next_context_verses)\n",
    "            ]\n",
    "\n",
    "            # chop the context based on embedding_context_scope\n",
    "            if (embedding_context_scope == \"book\"): \n",
    "                pass \n",
    "\n",
    "            else: \n",
    "                assert(False), f\"Unknown embedding context scope: {embedding_context_scope}\"\n",
    "\n",
    "            # Embed the text \n",
    "            verse_context_text = \" \".join(list(map(lambda verse: verse.text.strip(), verse_context)))\n",
    "            \n",
    "            # Save the text to vector store \n",
    "\n"
   ]
  },
  {
   "cell_type": "code",
   "execution_count": null,
   "metadata": {},
   "outputs": [],
   "source": []
  }
 ],
 "metadata": {
  "kernelspec": {
   "display_name": "Python 3",
   "language": "python",
   "name": "python3"
  },
  "language_info": {
   "codemirror_mode": {
    "name": "ipython",
    "version": 3
   },
   "file_extension": ".py",
   "mimetype": "text/x-python",
   "name": "python",
   "nbconvert_exporter": "python",
   "pygments_lexer": "ipython3",
   "version": "3.10.6"
  }
 },
 "nbformat": 4,
 "nbformat_minor": 2
}
